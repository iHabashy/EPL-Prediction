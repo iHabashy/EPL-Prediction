{
 "cells": [
  {
   "cell_type": "code",
   "execution_count": 1,
   "metadata": {},
   "outputs": [],
   "source": [
    "import pandas as pd\n",
    "import seaborn as sns\n",
    "from matplotlib import pyplot as plt\n",
    "import numpy as np\n",
    "from sklearn.linear_model import LogisticRegression\n",
    "from sklearn.svm import SVC"
   ]
  },
  {
   "cell_type": "code",
   "execution_count": 2,
   "metadata": {},
   "outputs": [],
   "source": [
    "epl_15_16_matches = pd.read_csv('england-premier-league-matches-2015-to-2016-stats.csv')\n",
    "epl_16_17_matches = pd.read_csv('england-premier-league-matches-2016-to-2017-stats.csv')\n",
    "epl_17_18_matches = pd.read_csv('england-premier-league-matches-2017-to-2018-stats.csv')\n",
    "epl_18_19_matches = pd.read_csv('england-premier-league-matches-2018-to-2019-stats.csv')\n",
    "epl_19_20_matches = pd.read_csv('england-premier-league-matches-2019-to-2020-stats.csv')"
   ]
  },
  {
   "cell_type": "code",
   "execution_count": 3,
   "metadata": {},
   "outputs": [],
   "source": [
    "epl_15_20_matches = pd.concat([epl_15_16_matches, epl_16_17_matches, \n",
    "                               epl_17_18_matches,epl_18_19_matches, epl_19_20_matches], axis=0)"
   ]
  },
  {
   "cell_type": "code",
   "execution_count": 4,
   "metadata": {},
   "outputs": [
    {
     "name": "stdout",
     "output_type": "stream",
     "text": [
      "<class 'pandas.core.frame.DataFrame'>\n",
      "Int64Index: 1900 entries, 0 to 379\n",
      "Data columns (total 64 columns):\n",
      "timestamp                              1900 non-null int64\n",
      "date_GMT                               1900 non-null object\n",
      "status                                 1900 non-null object\n",
      "attendance                             1868 non-null float64\n",
      "home_team_name                         1900 non-null object\n",
      "away_team_name                         1900 non-null object\n",
      "referee                                1165 non-null object\n",
      "Game Week                              1900 non-null int64\n",
      "Pre-Match PPG (Home)                   1900 non-null float64\n",
      "Pre-Match PPG (Away)                   1900 non-null float64\n",
      "home_ppg                               1900 non-null float64\n",
      "away_ppg                               1900 non-null float64\n",
      "home_team_goal_count                   1900 non-null int64\n",
      "away_team_goal_count                   1900 non-null int64\n",
      "total_goal_count                       1900 non-null int64\n",
      "total_goals_at_half_time               1900 non-null int64\n",
      "home_team_goal_count_half_time         1900 non-null int64\n",
      "away_team_goal_count_half_time         1900 non-null int64\n",
      "home_team_goal_timings                 1463 non-null object\n",
      "away_team_goal_timings                 1268 non-null object\n",
      "home_team_corner_count                 1900 non-null int64\n",
      "away_team_corner_count                 1900 non-null int64\n",
      "home_team_yellow_cards                 1900 non-null int64\n",
      "home_team_red_cards                    1900 non-null int64\n",
      "away_team_yellow_cards                 1900 non-null int64\n",
      "away_team_red_cards                    1900 non-null int64\n",
      "home_team_first_half_cards             1900 non-null int64\n",
      "home_team_second_half_cards            1900 non-null int64\n",
      "away_team_first_half_cards             1900 non-null int64\n",
      "away_team_second_half_cards            1900 non-null int64\n",
      "home_team_shots                        1900 non-null int64\n",
      "away_team_shots                        1900 non-null int64\n",
      "home_team_shots_on_target              1900 non-null int64\n",
      "away_team_shots_on_target              1900 non-null int64\n",
      "home_team_shots_off_target             1900 non-null int64\n",
      "away_team_shots_off_target             1900 non-null int64\n",
      "home_team_fouls                        1900 non-null int64\n",
      "away_team_fouls                        1900 non-null int64\n",
      "home_team_possession                   1900 non-null int64\n",
      "away_team_possession                   1900 non-null int64\n",
      "team_a_xg                              1900 non-null float64\n",
      "team_b_xg                              1900 non-null float64\n",
      "average_goals_per_match_pre_match      1900 non-null float64\n",
      "btts_percentage_pre_match              1900 non-null int64\n",
      "over_15_percentage_pre_match           1900 non-null int64\n",
      "over_25_percentage_pre_match           1900 non-null int64\n",
      "over_35_percentage_pre_match           1900 non-null int64\n",
      "over_45_percentage_pre_match           1900 non-null int64\n",
      "over_15_HT_FHG_percentage_pre_match    1900 non-null int64\n",
      "over_05_HT_FHG_percentage_pre_match    1900 non-null int64\n",
      "over_15_2HG_percentage_pre_match       1900 non-null int64\n",
      "over_05_2HG_percentage_pre_match       1900 non-null int64\n",
      "average_corners_per_match_pre_match    1900 non-null float64\n",
      "average_cards_per_match_pre_match      1900 non-null float64\n",
      "odds_ft_home_team_win                  1900 non-null float64\n",
      "odds_ft_draw                           1900 non-null float64\n",
      "odds_ft_away_team_win                  1900 non-null float64\n",
      "odds_ft_over15                         1900 non-null float64\n",
      "odds_ft_over25                         1900 non-null float64\n",
      "odds_ft_over35                         1900 non-null float64\n",
      "odds_ft_over45                         1900 non-null float64\n",
      "odds_btts_yes                          1900 non-null float64\n",
      "odds_btts_no                           1900 non-null float64\n",
      "stadium_name                           1900 non-null object\n",
      "dtypes: float64(19), int64(37), object(8)\n",
      "memory usage: 964.8+ KB\n"
     ]
    }
   ],
   "source": [
    "epl_15_20_matches.info()"
   ]
  },
  {
   "cell_type": "code",
   "execution_count": 5,
   "metadata": {},
   "outputs": [],
   "source": [
    "epl_15_16_teams = pd.read_csv('england-premier-league-teams-2015-to-2016-stats.csv')\n",
    "epl_16_17_teams = pd.read_csv('england-premier-league-teams-2016-to-2017-stats.csv')\n",
    "epl_17_18_teams = pd.read_csv('england-premier-league-teams-2017-to-2018-stats.csv')\n",
    "epl_18_19_teams = pd.read_csv('england-premier-league-teams-2018-to-2019-stats.csv')\n",
    "epl_19_20_teams = pd.read_csv('england-premier-league-teams-2019-to-2020-stats.csv')"
   ]
  },
  {
   "cell_type": "code",
   "execution_count": 6,
   "metadata": {},
   "outputs": [],
   "source": [
    "epl_15_20_teams = pd.concat([epl_15_16_teams, epl_16_17_teams, \n",
    "                               epl_17_18_teams,epl_18_19_teams, epl_19_20_teams], axis=0)"
   ]
  },
  {
   "cell_type": "code",
   "execution_count": 7,
   "metadata": {},
   "outputs": [
    {
     "name": "stdout",
     "output_type": "stream",
     "text": [
      "<class 'pandas.core.frame.DataFrame'>\n",
      "Int64Index: 100 entries, 0 to 19\n",
      "Columns: 293 entries, team_name to over145_corners_percentage\n",
      "dtypes: float64(36), int64(253), object(4)\n",
      "memory usage: 229.7+ KB\n"
     ]
    }
   ],
   "source": [
    "epl_15_20_teams.info()"
   ]
  },
  {
   "cell_type": "code",
   "execution_count": 8,
   "metadata": {},
   "outputs": [],
   "source": [
    "epl_15_16_teams2 = pd.read_csv('england-premier-league-teams2-2015-to-2016-stats.csv')\n",
    "epl_16_17_teams2 = pd.read_csv('england-premier-league-teams2-2016-to-2017-stats.csv')\n",
    "epl_17_18_teams2 = pd.read_csv('england-premier-league-teams2-2017-to-2018-stats.csv')\n",
    "epl_18_19_teams2 = pd.read_csv('england-premier-league-teams2-2018-to-2019-stats.csv')\n",
    "epl_19_20_teams2 = pd.read_csv('england-premier-league-teams2-2019-to-2020-stats.csv')"
   ]
  },
  {
   "cell_type": "code",
   "execution_count": 9,
   "metadata": {},
   "outputs": [],
   "source": [
    "epl_15_20_teams2 = pd.concat([epl_15_16_teams2, epl_16_17_teams2, \n",
    "                               epl_17_18_teams2,epl_18_19_teams2, epl_19_20_teams2], axis=0)"
   ]
  },
  {
   "cell_type": "code",
   "execution_count": 10,
   "metadata": {},
   "outputs": [
    {
     "name": "stdout",
     "output_type": "stream",
     "text": [
      "<class 'pandas.core.frame.DataFrame'>\n",
      "Int64Index: 100 entries, 0 to 19\n",
      "Columns: 442 entries, team_name to failed_to_score_2h_away\n",
      "dtypes: float64(42), int64(396), object(4)\n",
      "memory usage: 346.1+ KB\n"
     ]
    }
   ],
   "source": [
    "epl_15_20_teams2.info()"
   ]
  },
  {
   "cell_type": "code",
   "execution_count": 11,
   "metadata": {},
   "outputs": [
    {
     "data": {
      "text/html": [
       "<div>\n",
       "<style scoped>\n",
       "    .dataframe tbody tr th:only-of-type {\n",
       "        vertical-align: middle;\n",
       "    }\n",
       "\n",
       "    .dataframe tbody tr th {\n",
       "        vertical-align: top;\n",
       "    }\n",
       "\n",
       "    .dataframe thead th {\n",
       "        text-align: right;\n",
       "    }\n",
       "</style>\n",
       "<table border=\"1\" class=\"dataframe\">\n",
       "  <thead>\n",
       "    <tr style=\"text-align: right;\">\n",
       "      <th></th>\n",
       "      <th>timestamp</th>\n",
       "      <th>date_GMT</th>\n",
       "      <th>status</th>\n",
       "      <th>attendance</th>\n",
       "      <th>home_team_name</th>\n",
       "      <th>away_team_name</th>\n",
       "      <th>referee</th>\n",
       "      <th>Game Week</th>\n",
       "      <th>Pre-Match PPG (Home)</th>\n",
       "      <th>Pre-Match PPG (Away)</th>\n",
       "      <th>...</th>\n",
       "      <th>odds_ft_home_team_win</th>\n",
       "      <th>odds_ft_draw</th>\n",
       "      <th>odds_ft_away_team_win</th>\n",
       "      <th>odds_ft_over15</th>\n",
       "      <th>odds_ft_over25</th>\n",
       "      <th>odds_ft_over35</th>\n",
       "      <th>odds_ft_over45</th>\n",
       "      <th>odds_btts_yes</th>\n",
       "      <th>odds_btts_no</th>\n",
       "      <th>stadium_name</th>\n",
       "    </tr>\n",
       "  </thead>\n",
       "  <tbody>\n",
       "    <tr>\n",
       "      <th>0</th>\n",
       "      <td>1439034300</td>\n",
       "      <td>Aug 08 2015 - 11:45am</td>\n",
       "      <td>complete</td>\n",
       "      <td>NaN</td>\n",
       "      <td>Manchester United</td>\n",
       "      <td>Tottenham Hotspur</td>\n",
       "      <td>Jonathan Moss</td>\n",
       "      <td>1</td>\n",
       "      <td>0.0</td>\n",
       "      <td>0.0</td>\n",
       "      <td>...</td>\n",
       "      <td>1.72</td>\n",
       "      <td>4.00</td>\n",
       "      <td>5.11</td>\n",
       "      <td>0.0</td>\n",
       "      <td>0.0</td>\n",
       "      <td>0.0</td>\n",
       "      <td>0.0</td>\n",
       "      <td>0.0</td>\n",
       "      <td>0.0</td>\n",
       "      <td>Old Trafford (Manchester)</td>\n",
       "    </tr>\n",
       "    <tr>\n",
       "      <th>1</th>\n",
       "      <td>1439042400</td>\n",
       "      <td>Aug 08 2015 - 2:00pm</td>\n",
       "      <td>complete</td>\n",
       "      <td>NaN</td>\n",
       "      <td>AFC Bournemouth</td>\n",
       "      <td>Aston Villa</td>\n",
       "      <td>Mark Clattenburg</td>\n",
       "      <td>1</td>\n",
       "      <td>0.0</td>\n",
       "      <td>0.0</td>\n",
       "      <td>...</td>\n",
       "      <td>2.38</td>\n",
       "      <td>3.38</td>\n",
       "      <td>3.23</td>\n",
       "      <td>0.0</td>\n",
       "      <td>0.0</td>\n",
       "      <td>0.0</td>\n",
       "      <td>0.0</td>\n",
       "      <td>0.0</td>\n",
       "      <td>0.0</td>\n",
       "      <td>Vitality Stadium (Bournemouth- Dorset)</td>\n",
       "    </tr>\n",
       "    <tr>\n",
       "      <th>2</th>\n",
       "      <td>1439042400</td>\n",
       "      <td>Aug 08 2015 - 2:00pm</td>\n",
       "      <td>complete</td>\n",
       "      <td>NaN</td>\n",
       "      <td>Norwich City</td>\n",
       "      <td>Crystal Palace</td>\n",
       "      <td>Simon Hooper</td>\n",
       "      <td>1</td>\n",
       "      <td>0.0</td>\n",
       "      <td>0.0</td>\n",
       "      <td>...</td>\n",
       "      <td>2.50</td>\n",
       "      <td>3.38</td>\n",
       "      <td>3.03</td>\n",
       "      <td>0.0</td>\n",
       "      <td>0.0</td>\n",
       "      <td>0.0</td>\n",
       "      <td>0.0</td>\n",
       "      <td>0.0</td>\n",
       "      <td>0.0</td>\n",
       "      <td>Carrow Road (Norwich- Norfolk)</td>\n",
       "    </tr>\n",
       "    <tr>\n",
       "      <th>3</th>\n",
       "      <td>1439042400</td>\n",
       "      <td>Aug 08 2015 - 2:00pm</td>\n",
       "      <td>complete</td>\n",
       "      <td>NaN</td>\n",
       "      <td>Leicester City</td>\n",
       "      <td>Sunderland</td>\n",
       "      <td>Lee Mason</td>\n",
       "      <td>1</td>\n",
       "      <td>0.0</td>\n",
       "      <td>0.0</td>\n",
       "      <td>...</td>\n",
       "      <td>2.18</td>\n",
       "      <td>3.36</td>\n",
       "      <td>3.71</td>\n",
       "      <td>0.0</td>\n",
       "      <td>0.0</td>\n",
       "      <td>0.0</td>\n",
       "      <td>0.0</td>\n",
       "      <td>0.0</td>\n",
       "      <td>0.0</td>\n",
       "      <td>King Power Stadium (Leicester- Leicestershire)</td>\n",
       "    </tr>\n",
       "    <tr>\n",
       "      <th>4</th>\n",
       "      <td>1439042400</td>\n",
       "      <td>Aug 08 2015 - 2:00pm</td>\n",
       "      <td>complete</td>\n",
       "      <td>NaN</td>\n",
       "      <td>Everton</td>\n",
       "      <td>Watford</td>\n",
       "      <td>Mike Jones</td>\n",
       "      <td>1</td>\n",
       "      <td>0.0</td>\n",
       "      <td>0.0</td>\n",
       "      <td>...</td>\n",
       "      <td>1.75</td>\n",
       "      <td>3.86</td>\n",
       "      <td>5.16</td>\n",
       "      <td>0.0</td>\n",
       "      <td>0.0</td>\n",
       "      <td>0.0</td>\n",
       "      <td>0.0</td>\n",
       "      <td>0.0</td>\n",
       "      <td>0.0</td>\n",
       "      <td>Goodison Park (Liverpool)</td>\n",
       "    </tr>\n",
       "  </tbody>\n",
       "</table>\n",
       "<p>5 rows × 64 columns</p>\n",
       "</div>"
      ],
      "text/plain": [
       "    timestamp               date_GMT    status  attendance     home_team_name  \\\n",
       "0  1439034300  Aug 08 2015 - 11:45am  complete         NaN  Manchester United   \n",
       "1  1439042400   Aug 08 2015 - 2:00pm  complete         NaN    AFC Bournemouth   \n",
       "2  1439042400   Aug 08 2015 - 2:00pm  complete         NaN       Norwich City   \n",
       "3  1439042400   Aug 08 2015 - 2:00pm  complete         NaN     Leicester City   \n",
       "4  1439042400   Aug 08 2015 - 2:00pm  complete         NaN            Everton   \n",
       "\n",
       "      away_team_name           referee  Game Week  Pre-Match PPG (Home)  \\\n",
       "0  Tottenham Hotspur     Jonathan Moss          1                   0.0   \n",
       "1        Aston Villa  Mark Clattenburg          1                   0.0   \n",
       "2     Crystal Palace      Simon Hooper          1                   0.0   \n",
       "3         Sunderland         Lee Mason          1                   0.0   \n",
       "4            Watford        Mike Jones          1                   0.0   \n",
       "\n",
       "   Pre-Match PPG (Away)                       ...                        \\\n",
       "0                   0.0                       ...                         \n",
       "1                   0.0                       ...                         \n",
       "2                   0.0                       ...                         \n",
       "3                   0.0                       ...                         \n",
       "4                   0.0                       ...                         \n",
       "\n",
       "   odds_ft_home_team_win  odds_ft_draw  odds_ft_away_team_win  odds_ft_over15  \\\n",
       "0                   1.72          4.00                   5.11             0.0   \n",
       "1                   2.38          3.38                   3.23             0.0   \n",
       "2                   2.50          3.38                   3.03             0.0   \n",
       "3                   2.18          3.36                   3.71             0.0   \n",
       "4                   1.75          3.86                   5.16             0.0   \n",
       "\n",
       "   odds_ft_over25  odds_ft_over35  odds_ft_over45  odds_btts_yes odds_btts_no  \\\n",
       "0             0.0             0.0             0.0            0.0          0.0   \n",
       "1             0.0             0.0             0.0            0.0          0.0   \n",
       "2             0.0             0.0             0.0            0.0          0.0   \n",
       "3             0.0             0.0             0.0            0.0          0.0   \n",
       "4             0.0             0.0             0.0            0.0          0.0   \n",
       "\n",
       "                                     stadium_name  \n",
       "0                       Old Trafford (Manchester)  \n",
       "1          Vitality Stadium (Bournemouth- Dorset)  \n",
       "2                  Carrow Road (Norwich- Norfolk)  \n",
       "3  King Power Stadium (Leicester- Leicestershire)  \n",
       "4                       Goodison Park (Liverpool)  \n",
       "\n",
       "[5 rows x 64 columns]"
      ]
     },
     "execution_count": 11,
     "metadata": {},
     "output_type": "execute_result"
    }
   ],
   "source": [
    "epl_15_20_matches.head()"
   ]
  },
  {
   "cell_type": "code",
   "execution_count": 12,
   "metadata": {},
   "outputs": [
    {
     "data": {
      "text/html": [
       "<div>\n",
       "<style scoped>\n",
       "    .dataframe tbody tr th:only-of-type {\n",
       "        vertical-align: middle;\n",
       "    }\n",
       "\n",
       "    .dataframe tbody tr th {\n",
       "        vertical-align: top;\n",
       "    }\n",
       "\n",
       "    .dataframe thead th {\n",
       "        text-align: right;\n",
       "    }\n",
       "</style>\n",
       "<table border=\"1\" class=\"dataframe\">\n",
       "  <thead>\n",
       "    <tr style=\"text-align: right;\">\n",
       "      <th></th>\n",
       "      <th>home_team_goal_count</th>\n",
       "      <th>away_team_goal_count</th>\n",
       "      <th>match_result</th>\n",
       "    </tr>\n",
       "  </thead>\n",
       "  <tbody>\n",
       "    <tr>\n",
       "      <th>0</th>\n",
       "      <td>1</td>\n",
       "      <td>0</td>\n",
       "      <td>H</td>\n",
       "    </tr>\n",
       "    <tr>\n",
       "      <th>1</th>\n",
       "      <td>0</td>\n",
       "      <td>1</td>\n",
       "      <td>A</td>\n",
       "    </tr>\n",
       "    <tr>\n",
       "      <th>2</th>\n",
       "      <td>1</td>\n",
       "      <td>3</td>\n",
       "      <td>A</td>\n",
       "    </tr>\n",
       "    <tr>\n",
       "      <th>3</th>\n",
       "      <td>4</td>\n",
       "      <td>2</td>\n",
       "      <td>H</td>\n",
       "    </tr>\n",
       "    <tr>\n",
       "      <th>4</th>\n",
       "      <td>2</td>\n",
       "      <td>2</td>\n",
       "      <td>D</td>\n",
       "    </tr>\n",
       "  </tbody>\n",
       "</table>\n",
       "</div>"
      ],
      "text/plain": [
       "   home_team_goal_count  away_team_goal_count match_result\n",
       "0                     1                     0            H\n",
       "1                     0                     1            A\n",
       "2                     1                     3            A\n",
       "3                     4                     2            H\n",
       "4                     2                     2            D"
      ]
     },
     "execution_count": 12,
     "metadata": {},
     "output_type": "execute_result"
    }
   ],
   "source": [
    "conditions = [\n",
    "    (epl_15_20_matches['home_team_goal_count'] == epl_15_20_matches['away_team_goal_count']),\n",
    "    (epl_15_20_matches['home_team_goal_count'] > epl_15_20_matches['away_team_goal_count']),\n",
    "    (epl_15_20_matches['home_team_goal_count'] < epl_15_20_matches['away_team_goal_count'])\n",
    "]\n",
    "\n",
    "# create a list of the values we want to assign for each condition\n",
    "values = ['D', 'H', 'A']\n",
    "\n",
    "# create a new column and use np.select to assign values to it using our lists as arguments\n",
    "epl_15_20_matches['match_result'] = np.select(conditions, values)\n",
    "\n",
    "epl_15_20_matches[['home_team_goal_count','away_team_goal_count','match_result']].head()"
   ]
  },
  {
   "cell_type": "code",
   "execution_count": 13,
   "metadata": {
    "scrolled": true
   },
   "outputs": [
    {
     "data": {
      "text/plain": [
       "Text(0.5, 1.0, 'Match Result')"
      ]
     },
     "execution_count": 13,
     "metadata": {},
     "output_type": "execute_result"
    },
    {
     "data": {
      "image/png": "[encoded data removed]",
      "text/plain": [
       "<Figure size 432x288 with 1 Axes>"
      ]
     },
     "metadata": {},
     "output_type": "display_data"
    }
   ],
   "source": [
    "sns.set_theme(style=\"darkgrid\")\n",
    "sns.countplot(x=\"match_result\", data=epl_15_20_matches)\n",
    "plt.title('Match Result')"
   ]
  },
  {
   "cell_type": "code",
   "execution_count": 20,
   "metadata": {},
   "outputs": [],
   "source": [
    "epl_15_20_matches['year'] = pd.DatetimeIndex(epl_15_20_matches['date_GMT']).year\n",
    "epl_15_20_matches['month'] = pd.DatetimeIndex(epl_15_20_matches['date_GMT']).month"
   ]
  },
  {
   "cell_type": "code",
   "execution_count": 85,
   "metadata": {},
   "outputs": [],
   "source": [
    "epl_15_20_matches['season'] = np.where(epl_15_20_matches['month'] >= 8, \n",
    "                                       epl_15_20_matches['season_add'],\n",
    "                                       epl_15_20_matches['season_minus'])"
   ]
  },
  {
   "cell_type": "code",
   "execution_count": 90,
   "metadata": {},
   "outputs": [],
   "source": [
    "epl_15_20_matches.drop('points_diff', axis=1, inplace=True)"
   ]
  },
  {
   "cell_type": "code",
   "execution_count": 88,
   "metadata": {},
   "outputs": [
    {
     "data": {
      "text/html": [
       "<div>\n",
       "<style scoped>\n",
       "    .dataframe tbody tr th:only-of-type {\n",
       "        vertical-align: middle;\n",
       "    }\n",
       "\n",
       "    .dataframe tbody tr th {\n",
       "        vertical-align: top;\n",
       "    }\n",
       "\n",
       "    .dataframe thead th {\n",
       "        text-align: right;\n",
       "    }\n",
       "</style>\n",
       "<table border=\"1\" class=\"dataframe\">\n",
       "  <thead>\n",
       "    <tr style=\"text-align: right;\">\n",
       "      <th></th>\n",
       "      <th>year</th>\n",
       "      <th>month</th>\n",
       "      <th>season</th>\n",
       "    </tr>\n",
       "  </thead>\n",
       "  <tbody>\n",
       "    <tr>\n",
       "      <th>0</th>\n",
       "      <td>2015</td>\n",
       "      <td>8</td>\n",
       "      <td>2015/2016</td>\n",
       "    </tr>\n",
       "    <tr>\n",
       "      <th>1</th>\n",
       "      <td>2015</td>\n",
       "      <td>8</td>\n",
       "      <td>2015/2016</td>\n",
       "    </tr>\n",
       "    <tr>\n",
       "      <th>2</th>\n",
       "      <td>2015</td>\n",
       "      <td>8</td>\n",
       "      <td>2015/2016</td>\n",
       "    </tr>\n",
       "    <tr>\n",
       "      <th>3</th>\n",
       "      <td>2015</td>\n",
       "      <td>8</td>\n",
       "      <td>2015/2016</td>\n",
       "    </tr>\n",
       "    <tr>\n",
       "      <th>4</th>\n",
       "      <td>2015</td>\n",
       "      <td>8</td>\n",
       "      <td>2015/2016</td>\n",
       "    </tr>\n",
       "  </tbody>\n",
       "</table>\n",
       "</div>"
      ],
      "text/plain": [
       "   year  month     season\n",
       "0  2015      8  2015/2016\n",
       "1  2015      8  2015/2016\n",
       "2  2015      8  2015/2016\n",
       "3  2015      8  2015/2016\n",
       "4  2015      8  2015/2016"
      ]
     },
     "execution_count": 88,
     "metadata": {},
     "output_type": "execute_result"
    }
   ],
   "source": [
    "epl_15_20_matches[['year','month','season']].head()"
   ]
  },
  {
   "cell_type": "code",
   "execution_count": 14,
   "metadata": {},
   "outputs": [],
   "source": []
  },
  {
   "cell_type": "code",
   "execution_count": 93,
   "metadata": {},
   "outputs": [],
   "source": [
    "top_features = ['Game Week','Pre-Match PPG (Home)','Pre-Match PPG (Away)']\n",
    "epl_15_20_matches_top_features = epl_15_20_matches[top_features]\n",
    "#epl_15_20_matches_top_features.head()\n",
    "#sns.pairplot(USAhousing)"
   ]
  },
  {
   "cell_type": "code",
   "execution_count": null,
   "metadata": {},
   "outputs": [],
   "source": []
  }
 ],
 "metadata": {
  "kernelspec": {
   "display_name": "Python 3",
   "language": "python",
   "name": "python3"
  },
  "language_info": {
   "codemirror_mode": {
    "name": "ipython",
    "version": 3
   },
   "file_extension": ".py",
   "mimetype": "text/x-python",
   "name": "python",
   "nbconvert_exporter": "python",
   "pygments_lexer": "ipython3",
   "version": "3.6.5"
  }
 },
 "nbformat": 4,
 "nbformat_minor": 2
}
